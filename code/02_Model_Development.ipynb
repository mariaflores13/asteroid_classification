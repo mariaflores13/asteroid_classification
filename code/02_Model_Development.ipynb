{
 "cells": [
  {
   "cell_type": "markdown",
   "metadata": {},
   "source": [
    "## Model Development"
   ]
  },
  {
   "cell_type": "markdown",
   "metadata": {},
   "source": [
    "Import libraries"
   ]
  },
  {
   "cell_type": "code",
   "execution_count": 296,
   "metadata": {},
   "outputs": [],
   "source": [
    "import pickle\n",
    "import pandas as pd\n",
    "import numpy as np\n",
    "import seaborn as sns\n",
    "import matplotlib.pyplot as plt\n",
    "\n",
    "from sklearn.metrics import r2_score\n",
    "from sklearn.model_selection import train_test_split\n",
    "from sklearn.neighbors import KNeighborsClassifier\n",
    "from sklearn.metrics import confusion_matrix, accuracy_score, recall_score, precision_score, classification_report\n",
    "from sklearn.preprocessing import OneHotEncoder, RobustScaler, LabelEncoder, StandardScaler\n",
    "from sklearn.linear_model import LogisticRegression\n",
    "from sklearn.model_selection import GridSearchCV\n",
    "from scipy.stats import randint, uniform\n",
    "from sklearn.svm import SVC\n",
    "from sklearn.tree import DecisionTreeClassifier\n",
    "from sklearn.ensemble import RandomForestClassifier, AdaBoostClassifier, BaggingClassifier\n",
    "\n",
    "sns.set_style(style = 'whitegrid')\n",
    "%config InlineBackend.figure_format = 'retina'\n",
    "%matplotlib inline\n"
   ]
  },
  {
   "cell_type": "code",
   "execution_count": 297,
   "metadata": {},
   "outputs": [
    {
     "data": {
      "text/html": [
       "<div>\n",
       "<style scoped>\n",
       "    .dataframe tbody tr th:only-of-type {\n",
       "        vertical-align: middle;\n",
       "    }\n",
       "\n",
       "    .dataframe tbody tr th {\n",
       "        vertical-align: top;\n",
       "    }\n",
       "\n",
       "    .dataframe thead th {\n",
       "        text-align: right;\n",
       "    }\n",
       "</style>\n",
       "<table border=\"1\" class=\"dataframe\">\n",
       "  <thead>\n",
       "    <tr style=\"text-align: right;\">\n",
       "      <th></th>\n",
       "      <th>neo</th>\n",
       "      <th>hazardous</th>\n",
       "      <th>epoch_cal</th>\n",
       "      <th>eccentricity_(e)</th>\n",
       "      <th>semi_major_axis_(a)</th>\n",
       "      <th>perihelion_dist_(q)</th>\n",
       "      <th>inclination_(i)</th>\n",
       "      <th>perihelion_arg_(w)</th>\n",
       "      <th>abs_magnitude_(H)</th>\n",
       "      <th>mean_anomaly</th>\n",
       "      <th>...</th>\n",
       "      <th>asc_node_long_(deg)</th>\n",
       "      <th>orbital_per_(y)</th>\n",
       "      <th>first_obs</th>\n",
       "      <th>last_obs</th>\n",
       "      <th>class_APO</th>\n",
       "      <th>class_ATE</th>\n",
       "      <th>class_IEO</th>\n",
       "      <th>stand_grav_param</th>\n",
       "      <th>rel_velocity_Q</th>\n",
       "      <th>rel_velocity_q</th>\n",
       "    </tr>\n",
       "  </thead>\n",
       "  <tbody>\n",
       "    <tr>\n",
       "      <td>0</td>\n",
       "      <td>1</td>\n",
       "      <td>0</td>\n",
       "      <td>20200531.0</td>\n",
       "      <td>0.222951</td>\n",
       "      <td>1.458046</td>\n",
       "      <td>1.132973</td>\n",
       "      <td>10.830543</td>\n",
       "      <td>178.882294</td>\n",
       "      <td>10.4</td>\n",
       "      <td>271.071732</td>\n",
       "      <td>...</td>\n",
       "      <td>304.299327</td>\n",
       "      <td>1.760617</td>\n",
       "      <td>1893-10-29</td>\n",
       "      <td>2019-02-13</td>\n",
       "      <td>0</td>\n",
       "      <td>0</td>\n",
       "      <td>0</td>\n",
       "      <td>13.866566</td>\n",
       "      <td>11.661046</td>\n",
       "      <td>18.352633</td>\n",
       "    </tr>\n",
       "    <tr>\n",
       "      <td>1</td>\n",
       "      <td>1</td>\n",
       "      <td>0</td>\n",
       "      <td>20200531.0</td>\n",
       "      <td>0.546558</td>\n",
       "      <td>2.638602</td>\n",
       "      <td>1.196452</td>\n",
       "      <td>11.567485</td>\n",
       "      <td>156.176338</td>\n",
       "      <td>15.4</td>\n",
       "      <td>140.273422</td>\n",
       "      <td>...</td>\n",
       "      <td>183.866950</td>\n",
       "      <td>4.286167</td>\n",
       "      <td>1911-10-04</td>\n",
       "      <td>2020-02-27</td>\n",
       "      <td>0</td>\n",
       "      <td>0</td>\n",
       "      <td>0</td>\n",
       "      <td>82.182090</td>\n",
       "      <td>14.335015</td>\n",
       "      <td>48.892609</td>\n",
       "    </tr>\n",
       "    <tr>\n",
       "      <td>2</td>\n",
       "      <td>1</td>\n",
       "      <td>0</td>\n",
       "      <td>20200531.0</td>\n",
       "      <td>0.570332</td>\n",
       "      <td>2.473737</td>\n",
       "      <td>1.062886</td>\n",
       "      <td>9.393854</td>\n",
       "      <td>350.495585</td>\n",
       "      <td>13.8</td>\n",
       "      <td>294.579157</td>\n",
       "      <td>...</td>\n",
       "      <td>110.434218</td>\n",
       "      <td>3.890796</td>\n",
       "      <td>1918-02-03</td>\n",
       "      <td>2019-08-27</td>\n",
       "      <td>0</td>\n",
       "      <td>0</td>\n",
       "      <td>0</td>\n",
       "      <td>67.719856</td>\n",
       "      <td>12.982886</td>\n",
       "      <td>47.449251</td>\n",
       "    </tr>\n",
       "    <tr>\n",
       "      <td>3</td>\n",
       "      <td>1</td>\n",
       "      <td>0</td>\n",
       "      <td>20200531.0</td>\n",
       "      <td>0.533046</td>\n",
       "      <td>2.664725</td>\n",
       "      <td>1.244303</td>\n",
       "      <td>26.677643</td>\n",
       "      <td>132.364631</td>\n",
       "      <td>9.4</td>\n",
       "      <td>4.817745</td>\n",
       "      <td>...</td>\n",
       "      <td>215.546826</td>\n",
       "      <td>4.349974</td>\n",
       "      <td>1924-10-23</td>\n",
       "      <td>2019-08-17</td>\n",
       "      <td>0</td>\n",
       "      <td>0</td>\n",
       "      <td>0</td>\n",
       "      <td>84.647180</td>\n",
       "      <td>14.755655</td>\n",
       "      <td>48.443972</td>\n",
       "    </tr>\n",
       "    <tr>\n",
       "      <td>4</td>\n",
       "      <td>1</td>\n",
       "      <td>0</td>\n",
       "      <td>20200531.0</td>\n",
       "      <td>0.435285</td>\n",
       "      <td>1.919498</td>\n",
       "      <td>1.083970</td>\n",
       "      <td>11.876536</td>\n",
       "      <td>26.694797</td>\n",
       "      <td>17.7</td>\n",
       "      <td>38.522409</td>\n",
       "      <td>...</td>\n",
       "      <td>171.326998</td>\n",
       "      <td>2.659437</td>\n",
       "      <td>1932-03-12</td>\n",
       "      <td>2020-01-24</td>\n",
       "      <td>0</td>\n",
       "      <td>0</td>\n",
       "      <td>0</td>\n",
       "      <td>31.638696</td>\n",
       "      <td>12.080367</td>\n",
       "      <td>30.703567</td>\n",
       "    </tr>\n",
       "  </tbody>\n",
       "</table>\n",
       "<p>5 rows × 24 columns</p>\n",
       "</div>"
      ],
      "text/plain": [
       "   neo  hazardous   epoch_cal  eccentricity_(e)  semi_major_axis_(a)  \\\n",
       "0    1          0  20200531.0          0.222951             1.458046   \n",
       "1    1          0  20200531.0          0.546558             2.638602   \n",
       "2    1          0  20200531.0          0.570332             2.473737   \n",
       "3    1          0  20200531.0          0.533046             2.664725   \n",
       "4    1          0  20200531.0          0.435285             1.919498   \n",
       "\n",
       "   perihelion_dist_(q)  inclination_(i)  perihelion_arg_(w)  \\\n",
       "0             1.132973        10.830543          178.882294   \n",
       "1             1.196452        11.567485          156.176338   \n",
       "2             1.062886         9.393854          350.495585   \n",
       "3             1.244303        26.677643          132.364631   \n",
       "4             1.083970        11.876536           26.694797   \n",
       "\n",
       "   abs_magnitude_(H)  mean_anomaly  ...  asc_node_long_(deg)  orbital_per_(y)  \\\n",
       "0               10.4    271.071732  ...           304.299327         1.760617   \n",
       "1               15.4    140.273422  ...           183.866950         4.286167   \n",
       "2               13.8    294.579157  ...           110.434218         3.890796   \n",
       "3                9.4      4.817745  ...           215.546826         4.349974   \n",
       "4               17.7     38.522409  ...           171.326998         2.659437   \n",
       "\n",
       "   first_obs   last_obs  class_APO  class_ATE class_IEO stand_grav_param  \\\n",
       "0 1893-10-29 2019-02-13          0          0         0        13.866566   \n",
       "1 1911-10-04 2020-02-27          0          0         0        82.182090   \n",
       "2 1918-02-03 2019-08-27          0          0         0        67.719856   \n",
       "3 1924-10-23 2019-08-17          0          0         0        84.647180   \n",
       "4 1932-03-12 2020-01-24          0          0         0        31.638696   \n",
       "\n",
       "   rel_velocity_Q  rel_velocity_q  \n",
       "0       11.661046       18.352633  \n",
       "1       14.335015       48.892609  \n",
       "2       12.982886       47.449251  \n",
       "3       14.755655       48.443972  \n",
       "4       12.080367       30.703567  \n",
       "\n",
       "[5 rows x 24 columns]"
      ]
     },
     "execution_count": 297,
     "metadata": {},
     "output_type": "execute_result"
    }
   ],
   "source": [
    "df = pickle.load(open(\"../assets/clean_df.pkl\", \"rb\"))\n",
    "df.head()"
   ]
  },
  {
   "cell_type": "code",
   "execution_count": 298,
   "metadata": {},
   "outputs": [
    {
     "data": {
      "text/plain": [
       "(2917, 24)"
      ]
     },
     "execution_count": 298,
     "metadata": {},
     "output_type": "execute_result"
    }
   ],
   "source": [
    "df.shape"
   ]
  },
  {
   "cell_type": "code",
   "execution_count": 299,
   "metadata": {},
   "outputs": [
    {
     "data": {
      "text/plain": [
       "neo                            0\n",
       "hazardous                      0\n",
       "epoch_cal                      0\n",
       "eccentricity_(e)               0\n",
       "semi_major_axis_(a)            0\n",
       "perihelion_dist_(q)            0\n",
       "inclination_(i)                0\n",
       "perihelion_arg_(w)             0\n",
       "abs_magnitude_(H)              0\n",
       "mean_anomaly                   0\n",
       "aphelion_dist_(Q)              0\n",
       "mean_motion_(n)                0\n",
       "min_orbit_intersection_dist    0\n",
       "t_jupiter                      0\n",
       "asc_node_long_(deg)            0\n",
       "orbital_per_(y)                0\n",
       "first_obs                      0\n",
       "last_obs                       0\n",
       "class_APO                      0\n",
       "class_ATE                      0\n",
       "class_IEO                      0\n",
       "stand_grav_param               0\n",
       "rel_velocity_Q                 0\n",
       "rel_velocity_q                 0\n",
       "dtype: int64"
      ]
     },
     "execution_count": 299,
     "metadata": {},
     "output_type": "execute_result"
    }
   ],
   "source": [
    "df.isnull().sum()"
   ]
  },
  {
   "cell_type": "code",
   "execution_count": 300,
   "metadata": {},
   "outputs": [],
   "source": [
    "c = ['#B275FF', '#757DFF', '#5E3BA8', '#503098', '#41258A', '#251C65']"
   ]
  },
  {
   "cell_type": "markdown",
   "metadata": {},
   "source": [
    "### Baseline Accuracy"
   ]
  },
  {
   "cell_type": "markdown",
   "metadata": {},
   "source": [
    "Based on the class distribution, the baseline accuracy score is about 90%. The baselines suggests that if we randomly select an observation, then there is a 90% chance that the asteroid selected is accurately classified as not hazardous."
   ]
  },
  {
   "cell_type": "code",
   "execution_count": 301,
   "metadata": {
    "scrolled": true
   },
   "outputs": [
    {
     "data": {
      "text/plain": [
       "0    0.737744\n",
       "1    0.262256\n",
       "Name: hazardous, dtype: float64"
      ]
     },
     "execution_count": 301,
     "metadata": {},
     "output_type": "execute_result"
    }
   ],
   "source": [
    "df['hazardous'].value_counts(normalize=True)"
   ]
  },
  {
   "cell_type": "markdown",
   "metadata": {},
   "source": [
    "### Train/Test Split"
   ]
  },
  {
   "cell_type": "code",
   "execution_count": 302,
   "metadata": {},
   "outputs": [],
   "source": [
    "# Assign features to a variable\n",
    "features = df.describe().columns"
   ]
  },
  {
   "cell_type": "code",
   "execution_count": 303,
   "metadata": {},
   "outputs": [
    {
     "data": {
      "text/plain": [
       "Index(['neo', 'hazardous', 'epoch_cal', 'eccentricity_(e)',\n",
       "       'semi_major_axis_(a)', 'perihelion_dist_(q)', 'inclination_(i)',\n",
       "       'perihelion_arg_(w)', 'abs_magnitude_(H)', 'mean_anomaly',\n",
       "       'aphelion_dist_(Q)', 'mean_motion_(n)', 'min_orbit_intersection_dist',\n",
       "       't_jupiter', 'asc_node_long_(deg)', 'orbital_per_(y)', 'class_APO',\n",
       "       'class_ATE', 'class_IEO', 'stand_grav_param', 'rel_velocity_Q',\n",
       "       'rel_velocity_q'],\n",
       "      dtype='object')"
      ]
     },
     "execution_count": 303,
     "metadata": {},
     "output_type": "execute_result"
    }
   ],
   "source": [
    "features"
   ]
  },
  {
   "cell_type": "code",
   "execution_count": 304,
   "metadata": {},
   "outputs": [],
   "source": [
    "# Create X and y\n",
    "X = df[features].drop(columns='hazardous')\n",
    "y = df['hazardous']"
   ]
  },
  {
   "cell_type": "code",
   "execution_count": 305,
   "metadata": {},
   "outputs": [],
   "source": [
    "X_train, X_test, y_train, y_test = train_test_split(X, y, test_size=.25, random_state=42, stratify=y)"
   ]
  },
  {
   "cell_type": "markdown",
   "metadata": {},
   "source": [
    "Standardizes data (since there are various units in the dataset)"
   ]
  },
  {
   "cell_type": "code",
   "execution_count": 306,
   "metadata": {},
   "outputs": [],
   "source": [
    "# Instantiate Standard Scalar\n",
    "ss = StandardScaler()\n",
    "X_train_sc = ss.fit_transform(X_train)\n",
    "X_test_sc = ss.transform(X_test)"
   ]
  },
  {
   "cell_type": "markdown",
   "metadata": {},
   "source": [
    "### Logistic Regression Model"
   ]
  },
  {
   "cell_type": "code",
   "execution_count": 307,
   "metadata": {},
   "outputs": [
    {
     "name": "stdout",
     "output_type": "stream",
     "text": [
      "Logistic Regression Intercept: \n",
      "[-7.52970905]\n",
      "\n",
      "Logistic Regression Coefficient: \n",
      "[[ 0.          0.05382308  0.49291955 -0.10144543  0.29991148  0.03866579\n",
      "   0.01286364 -0.21724348  0.02415867 -0.19723761  0.11046119 -9.20714427\n",
      "   0.03549809  0.05013064 -0.05031619  0.26311661  0.08074523  0.18532951\n",
      "   0.25676381  0.12203394 -0.1973777 ]]\n",
      "\n",
      "Logistic Regression predicted values: \n",
      "[0 0 0 ... 0 0 1]\n",
      "\n",
      "Logistic Regression predicted probabilities: \n",
      "[[9.98782126e-01 1.21787411e-03]\n",
      " [9.99999545e-01 4.54791237e-07]\n",
      " [1.00000000e+00 2.02061345e-10]\n",
      " ...\n",
      " [9.99327300e-01 6.72700413e-04]\n",
      " [9.99411840e-01 5.88160063e-04]\n",
      " [1.81380037e-01 8.18619963e-01]]\n",
      "\n"
     ]
    }
   ],
   "source": [
    "logreg_model = LogisticRegression(solver='liblinear')\n",
    "logreg_model.fit(X_train_sc, y_train)\n",
    "\n",
    "print(f'Logistic Regression Intercept: \\n{logreg_model.intercept_}\\n')\n",
    "\n",
    "print(f'Logistic Regression Coefficient: \\n{logreg_model.coef_}\\n')\n",
    "\n",
    "print(f'Logistic Regression predicted values: \\n{logreg_model.predict(X_train_sc)}\\n')\n",
    "\n",
    "print(f'Logistic Regression predicted probabilities: \\n{logreg_model.predict_proba(X_train_sc)}\\n')"
   ]
  },
  {
   "cell_type": "code",
   "execution_count": 308,
   "metadata": {},
   "outputs": [],
   "source": [
    "logreg_preds = logreg_model.predict(X_train_sc)"
   ]
  },
  {
   "cell_type": "code",
   "execution_count": 309,
   "metadata": {},
   "outputs": [
    {
     "name": "stdout",
     "output_type": "stream",
     "text": [
      "Logistic Regression Accuracy Score: 0.9767123287671233\n"
     ]
    }
   ],
   "source": [
    "print(f'Logistic Regression Accuracy Score: {logreg_model.score(X_test_sc, y_test)}')"
   ]
  },
  {
   "cell_type": "code",
   "execution_count": 310,
   "metadata": {},
   "outputs": [
    {
     "data": {
      "text/plain": [
       "array([[1.00000000e+00, 1.05529788e+00, 1.63708881e+00, 9.03530487e-01,\n",
       "        1.34973933e+00, 1.03942304e+00, 1.01294673e+00, 8.04734008e-01,\n",
       "        1.02445285e+00, 8.20995533e-01, 1.11679301e+00, 1.00320121e-04,\n",
       "        1.03613567e+00, 1.05140844e+00, 9.50928703e-01, 1.30097842e+00,\n",
       "        1.08409466e+00, 1.20361498e+00, 1.29273976e+00, 1.12979245e+00,\n",
       "        8.20880531e-01]])"
      ]
     },
     "execution_count": 310,
     "metadata": {},
     "output_type": "execute_result"
    }
   ],
   "source": [
    "np.exp(logreg_model.coef_)"
   ]
  },
  {
   "cell_type": "code",
   "execution_count": 311,
   "metadata": {},
   "outputs": [
    {
     "name": "stdout",
     "output_type": "stream",
     "text": [
      "neo: 1.0\n",
      "epoch_cal: 1.0552978847440762\n",
      "eccentricity_(e): 1.6370888067333054\n",
      "semi_major_axis_(a): 0.9035304873394981\n",
      "perihelion_dist_(q): 1.3497393271621887\n",
      "inclination_(i): 1.0394230428328997\n",
      "perihelion_arg_(w): 1.0129467314752618\n",
      "abs_magnitude_(H): 0.8047340077025986\n",
      "mean_anomaly: 1.0244528548785767\n",
      "aphelion_dist_(Q): 0.820995532888271\n",
      "mean_motion_(n): 1.1167930070070897\n",
      "min_orbit_intersection_dist: 0.0001003201210345294\n",
      "t_jupiter: 1.0361356738368874\n",
      "asc_node_long_(deg): 1.0514084419100638\n",
      "orbital_per_(y): 0.9509287032955491\n",
      "class_APO: 1.3009784230646217\n",
      "class_ATE: 1.084094663600986\n",
      "class_IEO: 1.203614977247359\n",
      "stand_grav_param: 1.292739757290049\n",
      "rel_velocity_Q: 1.1297924483666935\n",
      "rel_velocity_q: 0.8208805314638198\n"
     ]
    }
   ],
   "source": [
    "# Match coeffecients to their corresponding feature\n",
    "for i in range(len(X.columns)):\n",
    "    print(f'{X.columns[i]}: {np.exp(logreg_model.coef_[0][i])}')"
   ]
  },
  {
   "cell_type": "code",
   "execution_count": 312,
   "metadata": {},
   "outputs": [
    {
     "data": {
      "text/plain": [
       "0.9785797507558441"
      ]
     },
     "execution_count": 312,
     "metadata": {},
     "output_type": "execute_result"
    }
   ],
   "source": [
    "# Import roc_auc_score.\n",
    "from sklearn.metrics import roc_auc_score\n",
    "\n",
    "# Calculate ROC AUC.\n",
    "roc_auc_score(logreg_preds_df['true_values'], \n",
    "             logreg_preds_df['pred_probs'])"
   ]
  },
  {
   "cell_type": "code",
   "execution_count": 313,
   "metadata": {},
   "outputs": [],
   "source": [
    "# Let's create a dataframe called logreg_preds_df that contains:\n",
    "# 1. The list of true values of our test set.\n",
    "# 2. The list of predicted probabilities based on our model.\n",
    "\n",
    "logreg_pred_proba = [i[1] for i in logreg_model.predict_proba(X_test_sc)]\n",
    "\n",
    "logreg_preds_df = pd.DataFrame({'true_values': y_test,\n",
    "                        'pred_probs': logreg_pred_proba})"
   ]
  },
  {
   "cell_type": "code",
   "execution_count": 317,
   "metadata": {},
   "outputs": [
    {
     "data": {
      "image/png": "[encoded data removed]",
      "text/plain": [
       "<Figure size 864x576 with 1 Axes>"
      ]
     },
     "metadata": {
      "image/png": {
       "height": 508,
       "width": 728
      },
      "needs_background": "light"
     },
     "output_type": "display_data"
    }
   ],
   "source": [
    "# Graph from Lesson 4.04\n",
    "# Create figure.\n",
    "plt.figure(figsize = (12,8))\n",
    "\n",
    "# Create two histograms of observations.\n",
    "plt.hist(logreg_preds_df[logreg_preds_df['true_values'] == 0]['pred_probs'],\n",
    "         bins=25,\n",
    "         color=c[0],\n",
    "         label='Outcome = 0')\n",
    "plt.hist(logreg_preds_df[logreg_preds_df['true_values'] == 1]['pred_probs'],\n",
    "         bins=25,\n",
    "         color=c[2],\n",
    "         label='Outcome = 1')\n",
    "\n",
    "# Add vertical line at P(Outcome = 1) = 0.097\n",
    "plt.vlines(x=0.097,\n",
    "           ymin = 0,\n",
    "           ymax = 400,\n",
    "           color='r',\n",
    "           linestyle = '--')\n",
    "\n",
    "# Label axes.\n",
    "plt.title('Distribution of P(Outcome = 1)', fontsize=22)\n",
    "plt.ylabel('Frequency', fontsize=18)\n",
    "plt.xlabel('Predicted Probability that Outcome = 1', fontsize=18)\n",
    "\n",
    "# Create legend.\n",
    "plt.legend(fontsize=20);"
   ]
  },
  {
   "cell_type": "markdown",
   "metadata": {},
   "source": [
    "### KNN Model"
   ]
  },
  {
   "cell_type": "code",
   "execution_count": 318,
   "metadata": {},
   "outputs": [],
   "source": [
    "# Instantiate KNN\n",
    "knn_model = KNeighborsClassifier()"
   ]
  },
  {
   "cell_type": "code",
   "execution_count": 319,
   "metadata": {},
   "outputs": [
    {
     "name": "stdout",
     "output_type": "stream",
     "text": [
      "KNN Train Accuracy Score:\n",
      "0.9062642889803384\n",
      "\n",
      "KNN Test Accuracy Score:\n",
      "0.8561643835616438\n",
      "\n"
     ]
    }
   ],
   "source": [
    "knn_model.fit(X_train_sc, y_train)\n",
    "print(f'KNN Train Accuracy Score:\\n{knn_model.score(X_train_sc, y_train)}\\n')\n",
    "\n",
    "print(f'KNN Test Accuracy Score:\\n{knn_model.score(X_test_sc, y_test)}\\n')"
   ]
  },
  {
   "cell_type": "code",
   "execution_count": 320,
   "metadata": {},
   "outputs": [],
   "source": [
    "knn_preds = knn_model.predict(X_test_sc)"
   ]
  },
  {
   "cell_type": "code",
   "execution_count": null,
   "metadata": {},
   "outputs": [],
   "source": []
  },
  {
   "cell_type": "markdown",
   "metadata": {},
   "source": [
    "### SVC"
   ]
  },
  {
   "cell_type": "code",
   "execution_count": null,
   "metadata": {},
   "outputs": [],
   "source": []
  },
  {
   "cell_type": "code",
   "execution_count": null,
   "metadata": {},
   "outputs": [],
   "source": []
  },
  {
   "cell_type": "markdown",
   "metadata": {},
   "source": [
    "### Random Forest Classifier"
   ]
  },
  {
   "cell_type": "code",
   "execution_count": null,
   "metadata": {},
   "outputs": [],
   "source": []
  },
  {
   "cell_type": "code",
   "execution_count": null,
   "metadata": {},
   "outputs": [],
   "source": []
  },
  {
   "cell_type": "code",
   "execution_count": null,
   "metadata": {},
   "outputs": [],
   "source": []
  },
  {
   "cell_type": "markdown",
   "metadata": {},
   "source": [
    "### Bootstrapping"
   ]
  },
  {
   "cell_type": "code",
   "execution_count": null,
   "metadata": {},
   "outputs": [],
   "source": []
  },
  {
   "cell_type": "code",
   "execution_count": null,
   "metadata": {},
   "outputs": [],
   "source": []
  }
 ],
 "metadata": {
  "kernelspec": {
   "display_name": "Python 3",
   "language": "python",
   "name": "python3"
  },
  "language_info": {
   "codemirror_mode": {
    "name": "ipython",
    "version": 3
   },
   "file_extension": ".py",
   "mimetype": "text/x-python",
   "name": "python",
   "nbconvert_exporter": "python",
   "pygments_lexer": "ipython3",
   "version": "3.7.4"
  }
 },
 "nbformat": 4,
 "nbformat_minor": 2
}
