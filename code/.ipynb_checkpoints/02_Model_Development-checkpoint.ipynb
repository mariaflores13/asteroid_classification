{
 "cells": [
  {
   "cell_type": "markdown",
   "metadata": {},
   "source": [
    "## Model Development"
   ]
  },
  {
   "cell_type": "markdown",
   "metadata": {},
   "source": [
    "Import libraries"
   ]
  },
  {
   "cell_type": "code",
   "execution_count": 146,
   "metadata": {},
   "outputs": [],
   "source": [
    "import pickle\n",
    "import pandas as pd\n",
    "import numpy as np\n",
    "import seaborn as sns\n",
    "import matplotlib.pyplot as plt\n",
    "\n",
    "from sklearn.metrics import r2_score\n",
    "from sklearn.model_selection import train_test_split\n",
    "from sklearn.neighbors import KNeighborsClassifier\n",
    "from sklearn.metrics import confusion_matrix, accuracy_score, recall_score, precision_score, classification_report\n",
    "from sklearn.preprocessing import OneHotEncoder, RobustScaler, LabelEncoder, StandardScaler\n",
    "from sklearn.linear_model import LogisticRegression\n",
    "from sklearn.model_selection import GridSearchCV\n",
    "from scipy.stats import randint, uniform\n",
    "from sklearn.svm import SVC\n",
    "from sklearn.tree import DecisionTreeClassifier\n",
    "from sklearn.ensemble import RandomForestClassifier, AdaBoostClassifier, BaggingClassifier\n",
    "\n",
    "sns.set_style(style = 'whitegrid')\n",
    "%config InlineBackend.figure_format = 'retina'\n",
    "%matplotlib inline\n"
   ]
  },
  {
   "cell_type": "code",
   "execution_count": 136,
   "metadata": {},
   "outputs": [
    {
     "data": {
      "text/html": [
       "<div>\n",
       "<style scoped>\n",
       "    .dataframe tbody tr th:only-of-type {\n",
       "        vertical-align: middle;\n",
       "    }\n",
       "\n",
       "    .dataframe tbody tr th {\n",
       "        vertical-align: top;\n",
       "    }\n",
       "\n",
       "    .dataframe thead th {\n",
       "        text-align: right;\n",
       "    }\n",
       "</style>\n",
       "<table border=\"1\" class=\"dataframe\">\n",
       "  <thead>\n",
       "    <tr style=\"text-align: right;\">\n",
       "      <th></th>\n",
       "      <th>neo</th>\n",
       "      <th>hazardous</th>\n",
       "      <th>epoch_cal</th>\n",
       "      <th>eccentricity_(e)</th>\n",
       "      <th>semi_major_axis_(a)</th>\n",
       "      <th>perihelion_dist_(q)</th>\n",
       "      <th>inclination_(i)</th>\n",
       "      <th>perihelion_arg_(w)</th>\n",
       "      <th>abs_magnitude_(H)</th>\n",
       "      <th>mean_anomaly</th>\n",
       "      <th>...</th>\n",
       "      <th>asc_node_long_(deg)</th>\n",
       "      <th>orbital_per_(y)</th>\n",
       "      <th>first_obs</th>\n",
       "      <th>last_obs</th>\n",
       "      <th>class_APO</th>\n",
       "      <th>class_ATE</th>\n",
       "      <th>class_TJN</th>\n",
       "      <th>stand_grav_param</th>\n",
       "      <th>rel_velocity_Q</th>\n",
       "      <th>rel_velocity_q</th>\n",
       "    </tr>\n",
       "  </thead>\n",
       "  <tbody>\n",
       "    <tr>\n",
       "      <td>0</td>\n",
       "      <td>1</td>\n",
       "      <td>0</td>\n",
       "      <td>20200531.0</td>\n",
       "      <td>0.222951</td>\n",
       "      <td>1.458046</td>\n",
       "      <td>1.132973</td>\n",
       "      <td>10.830543</td>\n",
       "      <td>178.882294</td>\n",
       "      <td>10.4</td>\n",
       "      <td>271.071732</td>\n",
       "      <td>...</td>\n",
       "      <td>304.299327</td>\n",
       "      <td>1.760617</td>\n",
       "      <td>1893-10-29</td>\n",
       "      <td>2019-02-13</td>\n",
       "      <td>0</td>\n",
       "      <td>0</td>\n",
       "      <td>0</td>\n",
       "      <td>0.818917</td>\n",
       "      <td>2.833825</td>\n",
       "      <td>4.459991</td>\n",
       "    </tr>\n",
       "    <tr>\n",
       "      <td>1</td>\n",
       "      <td>0</td>\n",
       "      <td>0</td>\n",
       "      <td>20200531.0</td>\n",
       "      <td>0.147122</td>\n",
       "      <td>5.209394</td>\n",
       "      <td>4.442980</td>\n",
       "      <td>10.319724</td>\n",
       "      <td>133.308510</td>\n",
       "      <td>8.3</td>\n",
       "      <td>271.736443</td>\n",
       "      <td>...</td>\n",
       "      <td>316.536049</td>\n",
       "      <td>11.890195</td>\n",
       "      <td>1906-02-22</td>\n",
       "      <td>2020-01-06</td>\n",
       "      <td>0</td>\n",
       "      <td>0</td>\n",
       "      <td>1</td>\n",
       "      <td>37.349792</td>\n",
       "      <td>10.952378</td>\n",
       "      <td>14.730948</td>\n",
       "    </tr>\n",
       "    <tr>\n",
       "      <td>2</td>\n",
       "      <td>0</td>\n",
       "      <td>0</td>\n",
       "      <td>20200531.0</td>\n",
       "      <td>0.138967</td>\n",
       "      <td>5.214560</td>\n",
       "      <td>4.489910</td>\n",
       "      <td>22.051776</td>\n",
       "      <td>307.866082</td>\n",
       "      <td>8.2</td>\n",
       "      <td>237.007167</td>\n",
       "      <td>...</td>\n",
       "      <td>44.348414</td>\n",
       "      <td>11.907886</td>\n",
       "      <td>1998-04-22</td>\n",
       "      <td>2019-08-17</td>\n",
       "      <td>0</td>\n",
       "      <td>0</td>\n",
       "      <td>1</td>\n",
       "      <td>37.461014</td>\n",
       "      <td>11.054892</td>\n",
       "      <td>14.623303</td>\n",
       "    </tr>\n",
       "    <tr>\n",
       "      <td>3</td>\n",
       "      <td>0</td>\n",
       "      <td>0</td>\n",
       "      <td>20200531.0</td>\n",
       "      <td>0.022797</td>\n",
       "      <td>5.262260</td>\n",
       "      <td>5.142298</td>\n",
       "      <td>18.157697</td>\n",
       "      <td>184.243883</td>\n",
       "      <td>7.2</td>\n",
       "      <td>202.508492</td>\n",
       "      <td>...</td>\n",
       "      <td>342.791035</td>\n",
       "      <td>12.071650</td>\n",
       "      <td>1907-02-11</td>\n",
       "      <td>2020-01-26</td>\n",
       "      <td>0</td>\n",
       "      <td>0</td>\n",
       "      <td>1</td>\n",
       "      <td>38.498470</td>\n",
       "      <td>12.541588</td>\n",
       "      <td>13.126737</td>\n",
       "    </tr>\n",
       "    <tr>\n",
       "      <td>4</td>\n",
       "      <td>0</td>\n",
       "      <td>0</td>\n",
       "      <td>20200531.0</td>\n",
       "      <td>0.117448</td>\n",
       "      <td>5.164464</td>\n",
       "      <td>4.557910</td>\n",
       "      <td>4.522630</td>\n",
       "      <td>343.462149</td>\n",
       "      <td>8.7</td>\n",
       "      <td>14.898330</td>\n",
       "      <td>...</td>\n",
       "      <td>350.739111</td>\n",
       "      <td>11.736703</td>\n",
       "      <td>1908-03-23</td>\n",
       "      <td>2020-01-06</td>\n",
       "      <td>0</td>\n",
       "      <td>0</td>\n",
       "      <td>1</td>\n",
       "      <td>36.391711</td>\n",
       "      <td>11.190881</td>\n",
       "      <td>14.169385</td>\n",
       "    </tr>\n",
       "  </tbody>\n",
       "</table>\n",
       "<p>5 rows × 24 columns</p>\n",
       "</div>"
      ],
      "text/plain": [
       "   neo  hazardous   epoch_cal  eccentricity_(e)  semi_major_axis_(a)  \\\n",
       "0    1          0  20200531.0          0.222951             1.458046   \n",
       "1    0          0  20200531.0          0.147122             5.209394   \n",
       "2    0          0  20200531.0          0.138967             5.214560   \n",
       "3    0          0  20200531.0          0.022797             5.262260   \n",
       "4    0          0  20200531.0          0.117448             5.164464   \n",
       "\n",
       "   perihelion_dist_(q)  inclination_(i)  perihelion_arg_(w)  \\\n",
       "0             1.132973        10.830543          178.882294   \n",
       "1             4.442980        10.319724          133.308510   \n",
       "2             4.489910        22.051776          307.866082   \n",
       "3             5.142298        18.157697          184.243883   \n",
       "4             4.557910         4.522630          343.462149   \n",
       "\n",
       "   abs_magnitude_(H)  mean_anomaly  ...  asc_node_long_(deg)  orbital_per_(y)  \\\n",
       "0               10.4    271.071732  ...           304.299327         1.760617   \n",
       "1                8.3    271.736443  ...           316.536049        11.890195   \n",
       "2                8.2    237.007167  ...            44.348414        11.907886   \n",
       "3                7.2    202.508492  ...           342.791035        12.071650   \n",
       "4                8.7     14.898330  ...           350.739111        11.736703   \n",
       "\n",
       "   first_obs   last_obs  class_APO  class_ATE class_TJN stand_grav_param  \\\n",
       "0 1893-10-29 2019-02-13          0          0         0         0.818917   \n",
       "1 1906-02-22 2020-01-06          0          0         1        37.349792   \n",
       "2 1998-04-22 2019-08-17          0          0         1        37.461014   \n",
       "3 1907-02-11 2020-01-26          0          0         1        38.498470   \n",
       "4 1908-03-23 2020-01-06          0          0         1        36.391711   \n",
       "\n",
       "   rel_velocity_Q  rel_velocity_q  \n",
       "0        2.833825        4.459991  \n",
       "1       10.952378       14.730948  \n",
       "2       11.054892       14.623303  \n",
       "3       12.541588       13.126737  \n",
       "4       11.190881       14.169385  \n",
       "\n",
       "[5 rows x 24 columns]"
      ]
     },
     "execution_count": 136,
     "metadata": {},
     "output_type": "execute_result"
    }
   ],
   "source": [
    "df = pickle.load(open(\"../assets/clean_df.pkl\", \"rb\"))\n",
    "df.head()"
   ]
  },
  {
   "cell_type": "code",
   "execution_count": 137,
   "metadata": {},
   "outputs": [
    {
     "data": {
      "text/plain": [
       "(7856, 24)"
      ]
     },
     "execution_count": 137,
     "metadata": {},
     "output_type": "execute_result"
    }
   ],
   "source": [
    "df.shape"
   ]
  },
  {
   "cell_type": "code",
   "execution_count": 138,
   "metadata": {},
   "outputs": [
    {
     "data": {
      "text/plain": [
       "neo                            0\n",
       "hazardous                      0\n",
       "epoch_cal                      0\n",
       "eccentricity_(e)               0\n",
       "semi_major_axis_(a)            0\n",
       "perihelion_dist_(q)            0\n",
       "inclination_(i)                0\n",
       "perihelion_arg_(w)             0\n",
       "abs_magnitude_(H)              0\n",
       "mean_anomaly                   0\n",
       "aphelion_dist_(Q)              0\n",
       "mean_motion_(n)                0\n",
       "min_orbit_intersection_dist    0\n",
       "t_jupiter                      0\n",
       "asc_node_long_(deg)            0\n",
       "orbital_per_(y)                0\n",
       "first_obs                      0\n",
       "last_obs                       0\n",
       "class_APO                      0\n",
       "class_ATE                      0\n",
       "class_TJN                      0\n",
       "stand_grav_param               0\n",
       "rel_velocity_Q                 0\n",
       "rel_velocity_q                 0\n",
       "dtype: int64"
      ]
     },
     "execution_count": 138,
     "metadata": {},
     "output_type": "execute_result"
    }
   ],
   "source": [
    "df.isnull().sum()"
   ]
  },
  {
   "cell_type": "code",
   "execution_count": 226,
   "metadata": {},
   "outputs": [],
   "source": [
    "c = ['#B275FF', '#757DFF', '#5E3BA8', '#503098', '#41258A', '#251C65']"
   ]
  },
  {
   "cell_type": "markdown",
   "metadata": {},
   "source": [
    "### Baseline Accuracy"
   ]
  },
  {
   "cell_type": "markdown",
   "metadata": {},
   "source": [
    "Based on the class distribution, the baseline accuracy score is 9.7%. The baselines suggests that if we randomly selected an observation, then there is a 9.7% chance that the asteroid selected is hazardous."
   ]
  },
  {
   "cell_type": "code",
   "execution_count": 195,
   "metadata": {
    "scrolled": true
   },
   "outputs": [
    {
     "data": {
      "text/plain": [
       "0    90.287678\n",
       "1     9.712322\n",
       "Name: hazardous, dtype: float64"
      ]
     },
     "execution_count": 195,
     "metadata": {},
     "output_type": "execute_result"
    }
   ],
   "source": [
    "df['hazardous'].value_counts(normalize=True)*100"
   ]
  },
  {
   "cell_type": "markdown",
   "metadata": {},
   "source": [
    "### Train/Test Split"
   ]
  },
  {
   "cell_type": "code",
   "execution_count": 139,
   "metadata": {},
   "outputs": [],
   "source": [
    "# Assign features to a variable\n",
    "features = df.describe().columns"
   ]
  },
  {
   "cell_type": "code",
   "execution_count": 140,
   "metadata": {},
   "outputs": [
    {
     "data": {
      "text/plain": [
       "Index(['neo', 'hazardous', 'epoch_cal', 'eccentricity_(e)',\n",
       "       'semi_major_axis_(a)', 'perihelion_dist_(q)', 'inclination_(i)',\n",
       "       'perihelion_arg_(w)', 'abs_magnitude_(H)', 'mean_anomaly',\n",
       "       'aphelion_dist_(Q)', 'mean_motion_(n)', 'min_orbit_intersection_dist',\n",
       "       't_jupiter', 'asc_node_long_(deg)', 'orbital_per_(y)', 'class_APO',\n",
       "       'class_ATE', 'class_TJN', 'stand_grav_param', 'rel_velocity_Q',\n",
       "       'rel_velocity_q'],\n",
       "      dtype='object')"
      ]
     },
     "execution_count": 140,
     "metadata": {},
     "output_type": "execute_result"
    }
   ],
   "source": [
    "features"
   ]
  },
  {
   "cell_type": "code",
   "execution_count": 141,
   "metadata": {},
   "outputs": [],
   "source": [
    "# Create X and y\n",
    "X = df[features].drop(columns='hazardous')\n",
    "y = df['hazardous']"
   ]
  },
  {
   "cell_type": "code",
   "execution_count": 254,
   "metadata": {},
   "outputs": [],
   "source": [
    "X_train, X_test, y_train, y_test = train_test_split(X, y, test_size=.25, random_state=42, stratify=y)"
   ]
  },
  {
   "cell_type": "markdown",
   "metadata": {},
   "source": [
    "Standardizes data (since there are various units in the dataset)"
   ]
  },
  {
   "cell_type": "code",
   "execution_count": 255,
   "metadata": {},
   "outputs": [],
   "source": [
    "# Instantiate Standard Scalar\n",
    "ss = StandardScaler()\n",
    "X_train_sc = ss.fit_transform(X_train)\n",
    "X_test_sc = ss.transform(X_test)"
   ]
  },
  {
   "cell_type": "markdown",
   "metadata": {},
   "source": [
    "### Logistic Regression Model"
   ]
  },
  {
   "cell_type": "code",
   "execution_count": 256,
   "metadata": {},
   "outputs": [
    {
     "name": "stdout",
     "output_type": "stream",
     "text": [
      "Logistic Regression Intercept: \n",
      "[-5.63160887]\n",
      "\n",
      "Logistic Regression Coefficient: \n",
      "[[ -2.34834042  -0.03083947   0.29341585   0.43592163   1.45490338\n",
      "   -0.37919537   0.03108128   0.17109557   0.01389419  -0.82856568\n",
      "    1.38502988 -11.16903039  -1.15671295   0.04943889   0.80746277\n",
      "    1.11514806   0.41838916   2.34834042   1.66941906   1.3221888\n",
      "   -0.13843608]]\n",
      "\n",
      "Logistic Regression predicted values: \n",
      "[0 0 0 ... 0 0 0]\n",
      "\n",
      "Logistic Regression predicted probabilities: \n",
      "[[9.99884341e-01 1.15659284e-04]\n",
      " [9.99878589e-01 1.21410944e-04]\n",
      " [9.99748428e-01 2.51571775e-04]\n",
      " ...\n",
      " [9.99698475e-01 3.01524661e-04]\n",
      " [9.77969252e-01 2.20307483e-02]\n",
      " [8.24939753e-01 1.75060247e-01]]\n",
      "\n"
     ]
    }
   ],
   "source": [
    "logreg_model = LogisticRegression(solver='liblinear')\n",
    "logreg_model.fit(X_train_sc, y_train)\n",
    "\n",
    "print(f'Logistic Regression Intercept: \\n{logreg_model.intercept_}\\n')\n",
    "\n",
    "print(f'Logistic Regression Coefficient: \\n{logreg_model.coef_}\\n')\n",
    "\n",
    "print(f'Logistic Regression predicted values: \\n{logreg_model.predict(X_train_sc)}\\n')\n",
    "\n",
    "print(f'Logistic Regression predicted probabilities: \\n{logreg_model.predict_proba(X_train_sc)}\\n')"
   ]
  },
  {
   "cell_type": "code",
   "execution_count": 257,
   "metadata": {},
   "outputs": [],
   "source": [
    "logreg_preds = logreg_model.predict(X_train_sc)"
   ]
  },
  {
   "cell_type": "code",
   "execution_count": 258,
   "metadata": {},
   "outputs": [
    {
     "name": "stdout",
     "output_type": "stream",
     "text": [
      "Logistic Regression Accuracy Score: 0.9501018329938901\n"
     ]
    }
   ],
   "source": [
    "print(f'Logistic Regression Accuracy Score: {logreg_model.score(X_test_sc, y_test)}')"
   ]
  },
  {
   "cell_type": "code",
   "execution_count": 259,
   "metadata": {},
   "outputs": [
    {
     "data": {
      "text/plain": [
       "array([[9.55275666e-02, 9.69631212e-01, 1.34100033e+00, 1.54638760e+00,\n",
       "        4.28406953e+00, 6.84411888e-01, 1.03156935e+00, 1.18660415e+00,\n",
       "        1.01399116e+00, 4.36675168e-01, 3.99494528e+00, 1.41043063e-05,\n",
       "        3.14518320e-01, 1.05068139e+00, 2.24221175e+00, 3.05001973e+00,\n",
       "        1.51951190e+00, 1.04681825e+01, 5.30908264e+00, 3.75162394e+00,\n",
       "        8.70718905e-01]])"
      ]
     },
     "execution_count": 259,
     "metadata": {},
     "output_type": "execute_result"
    }
   ],
   "source": [
    "np.exp(logreg_model.coef_)"
   ]
  },
  {
   "cell_type": "code",
   "execution_count": 260,
   "metadata": {},
   "outputs": [
    {
     "name": "stdout",
     "output_type": "stream",
     "text": [
      "neo: 0.09552756658930903\n",
      "epoch_cal: 0.9696312122137518\n",
      "eccentricity_(e): 1.341000329142554\n",
      "semi_major_axis_(a): 1.5463875952483608\n",
      "perihelion_dist_(q): 4.284069532963499\n",
      "inclination_(i): 0.6844118881391204\n",
      "perihelion_arg_(w): 1.0315693467634701\n",
      "abs_magnitude_(H): 1.1866041471375337\n",
      "mean_anomaly: 1.013991164520813\n",
      "aphelion_dist_(Q): 0.43667516800279393\n",
      "mean_motion_(n): 3.9949452805135715\n",
      "min_orbit_intersection_dist: 1.4104306347893248e-05\n",
      "t_jupiter: 0.31451832020892845\n",
      "asc_node_long_(deg): 1.0506813858060655\n",
      "orbital_per_(y): 2.2422117469753626\n",
      "class_APO: 3.050019734241149\n",
      "class_ATE: 1.5195118951924593\n",
      "class_TJN: 10.468182491229868\n",
      "stand_grav_param: 5.309082638548045\n",
      "rel_velocity_Q: 3.7516239375836653\n",
      "rel_velocity_q: 0.8707189048560781\n"
     ]
    }
   ],
   "source": [
    "# Match coeffecients to their corresponding feature\n",
    "for i in range(len(X.columns)):\n",
    "    print(f'{X.columns[i]}: {np.exp(logreg_model.coef_[0][i])}')"
   ]
  },
  {
   "cell_type": "code",
   "execution_count": 261,
   "metadata": {},
   "outputs": [
    {
     "data": {
      "text/plain": [
       "0.9785437761890842"
      ]
     },
     "execution_count": 261,
     "metadata": {},
     "output_type": "execute_result"
    }
   ],
   "source": [
    "# Import roc_auc_score.\n",
    "from sklearn.metrics import roc_auc_score\n",
    "\n",
    "# Calculate ROC AUC.\n",
    "roc_auc_score(logreg_preds_df['true_values'], \n",
    "             logreg_preds_df['pred_probs'])"
   ]
  },
  {
   "cell_type": "code",
   "execution_count": 262,
   "metadata": {},
   "outputs": [],
   "source": [
    "# Let's create a dataframe called logreg_preds_df that contains:\n",
    "# 1. The list of true values of our test set.\n",
    "# 2. The list of predicted probabilities based on our model.\n",
    "\n",
    "logreg_pred_proba = [i[1] for i in logreg_model.predict_proba(X_test_sc)]\n",
    "\n",
    "logreg_preds_df = pd.DataFrame({'true_values': y_test,\n",
    "                        'pred_probs': logreg_pred_proba})"
   ]
  },
  {
   "cell_type": "code",
   "execution_count": 263,
   "metadata": {},
   "outputs": [
    {
     "data": {
      "image/png": "[encoded data removed]",
      "text/plain": [
       "<Figure size 864x576 with 1 Axes>"
      ]
     },
     "metadata": {
      "image/png": {
       "height": 508,
       "width": 733
      },
      "needs_background": "light"
     },
     "output_type": "display_data"
    }
   ],
   "source": [
    "# Graph from Lesson 4.04\n",
    "# Create figure.\n",
    "plt.figure(figsize = (12,8))\n",
    "\n",
    "# Create two histograms of observations.\n",
    "plt.hist(logreg_preds_df[logreg_preds_df['true_values'] == 0]['pred_probs'],\n",
    "         bins=25,\n",
    "         color=c[0],\n",
    "         label='Outcome = 0')\n",
    "plt.hist(logreg_preds_df[logreg_preds_df['true_values'] == 1]['pred_probs'],\n",
    "         bins=25,\n",
    "         color=c[2],\n",
    "         label='Outcome = 1')\n",
    "\n",
    "# Add vertical line at P(Outcome = 1) = 0.097\n",
    "plt.vlines(x=0.097,\n",
    "           ymin = 0,\n",
    "           ymax = 1400,\n",
    "           color='r',\n",
    "           linestyle = '--')\n",
    "\n",
    "# Label axes.\n",
    "plt.title('Distribution of P(Outcome = 1)', fontsize=22)\n",
    "plt.ylabel('Frequency', fontsize=18)\n",
    "plt.xlabel('Predicted Probability that Outcome = 1', fontsize=18)\n",
    "\n",
    "# Create legend.\n",
    "plt.legend(fontsize=20);"
   ]
  },
  {
   "cell_type": "markdown",
   "metadata": {},
   "source": [
    "### KNN Model"
   ]
  },
  {
   "cell_type": "code",
   "execution_count": 264,
   "metadata": {},
   "outputs": [],
   "source": [
    "# Instantiate KNN\n",
    "knn_model = KNeighborsClassifier()"
   ]
  },
  {
   "cell_type": "code",
   "execution_count": 265,
   "metadata": {},
   "outputs": [
    {
     "name": "stdout",
     "output_type": "stream",
     "text": [
      "KNN Train Accuracy Score:\n",
      "0.9378818737270875\n",
      "\n",
      "KNN Test Accuracy Score:\n",
      "0.9129327902240326\n",
      "\n"
     ]
    }
   ],
   "source": [
    "knn_model.fit(X_train_sc, y_train)\n",
    "print(f'KNN Train Accuracy Score:\\n{knn_model.score(X_train_sc, y_train)}\\n')\n",
    "\n",
    "print(f'KNN Test Accuracy Score:\\n{knn_model.score(X_test_sc, y_test)}\\n')"
   ]
  },
  {
   "cell_type": "code",
   "execution_count": 269,
   "metadata": {},
   "outputs": [],
   "source": [
    "knn_preds = knn_model.predict(X_test_sc)"
   ]
  },
  {
   "cell_type": "code",
   "execution_count": null,
   "metadata": {},
   "outputs": [],
   "source": []
  },
  {
   "cell_type": "markdown",
   "metadata": {},
   "source": [
    "### SVC"
   ]
  },
  {
   "cell_type": "code",
   "execution_count": null,
   "metadata": {},
   "outputs": [],
   "source": []
  },
  {
   "cell_type": "code",
   "execution_count": null,
   "metadata": {},
   "outputs": [],
   "source": []
  },
  {
   "cell_type": "markdown",
   "metadata": {},
   "source": [
    "### Random Forest Classifier"
   ]
  },
  {
   "cell_type": "code",
   "execution_count": null,
   "metadata": {},
   "outputs": [],
   "source": []
  },
  {
   "cell_type": "code",
   "execution_count": null,
   "metadata": {},
   "outputs": [],
   "source": []
  },
  {
   "cell_type": "code",
   "execution_count": null,
   "metadata": {},
   "outputs": [],
   "source": []
  },
  {
   "cell_type": "code",
   "execution_count": null,
   "metadata": {},
   "outputs": [],
   "source": []
  },
  {
   "cell_type": "code",
   "execution_count": null,
   "metadata": {},
   "outputs": [],
   "source": []
  },
  {
   "cell_type": "code",
   "execution_count": null,
   "metadata": {},
   "outputs": [],
   "source": []
  }
 ],
 "metadata": {
  "kernelspec": {
   "display_name": "Python 3",
   "language": "python",
   "name": "python3"
  },
  "language_info": {
   "codemirror_mode": {
    "name": "ipython",
    "version": 3
   },
   "file_extension": ".py",
   "mimetype": "text/x-python",
   "name": "python",
   "nbconvert_exporter": "python",
   "pygments_lexer": "ipython3",
   "version": "3.7.4"
  }
 },
 "nbformat": 4,
 "nbformat_minor": 2
}
